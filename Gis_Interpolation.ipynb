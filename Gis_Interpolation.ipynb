{
  "nbformat": 4,
  "nbformat_minor": 0,
  "metadata": {
    "colab": {
      "name": "Untitled2.ipynb",
      "provenance": [],
      "collapsed_sections": [],
      "authorship_tag": "ABX9TyM06UZTR+jPNRooXMt+hCyY",
      "include_colab_link": true
    },
    "kernelspec": {
      "name": "python3",
      "display_name": "Python 3"
    },
    "language_info": {
      "name": "python"
    }
  },
  "cells": [
    {
      "cell_type": "markdown",
      "metadata": {
        "id": "view-in-github",
        "colab_type": "text"
      },
      "source": [
        "<a href=\"https://colab.research.google.com/github/AliD6/Gis/blob/main/Gis_Interpolation.ipynb\" target=\"_parent\"><img src=\"https://colab.research.google.com/assets/colab-badge.svg\" alt=\"Open In Colab\"/></a>"
      ]
    },
    {
      "cell_type": "code",
      "metadata": {
        "colab": {
          "base_uri": "https://localhost:8080/"
        },
        "id": "N5deBqijbog7",
        "outputId": "671dd939-1f84-48da-edb5-378c42a7a6a3"
      },
      "source": [
        "! pip install numpy"
      ],
      "execution_count": null,
      "outputs": [
        {
          "output_type": "stream",
          "text": [
            "Requirement already satisfied: numpy in /usr/local/lib/python3.7/dist-packages (1.19.5)\n"
          ],
          "name": "stdout"
        }
      ]
    },
    {
      "cell_type": "code",
      "metadata": {
        "id": "iqY3jrZ-b_12"
      },
      "source": [
        "#import\n",
        "import numpy as np"
      ],
      "execution_count": null,
      "outputs": []
    },
    {
      "cell_type": "markdown",
      "metadata": {
        "id": "Ta0lXxSDbuX1"
      },
      "source": [
        ""
      ]
    },
    {
      "cell_type": "code",
      "metadata": {
        "id": "F6D2AX2tbvf4"
      },
      "source": [
        "# make 60*100 pixels for raster\n",
        "array =  np.zeros((60 , 100))\n",
        "\n",
        "# random pixels for stations\n",
        "randy = np.random.choice(60 , 34)\n",
        "randx = np.random.choice(100,34)\n",
        "for y, x in zip(randy, randx):\n",
        "    array[y,x]=1\n"
      ],
      "execution_count": null,
      "outputs": []
    },
    {
      "cell_type": "code",
      "metadata": {
        "id": "O8N2FGQ-cOHd"
      },
      "source": [
        "# define function gamma to calculate distance\n",
        "def gamma(x1 , y1 , x2 , y2):\n",
        "  return np.sqrt(((x1-x2)**2) + ((y1-y2)**2))\n"
      ],
      "execution_count": null,
      "outputs": []
    },
    {
      "cell_type": "code",
      "metadata": {
        "id": "cspDQU3Rh3TW"
      },
      "source": [
        "# make a 1156 length array for distances of stations\n",
        "distance=[]\n",
        "rand2x = randx\n",
        "rand2y = randy\n",
        "for x1,y1 in zip(randx,randy):\n",
        "  for x2,y2 in zip(rand2x,rand2y):\n",
        "    distance.append(gamma(x1,y1,x2,y2))\n",
        "\n"
      ],
      "execution_count": null,
      "outputs": []
    },
    {
      "cell_type": "code",
      "metadata": {
        "colab": {
          "base_uri": "https://localhost:8080/"
        },
        "id": "0ojthpZ3cKBw",
        "outputId": "58c0a79a-c25e-4d13-abe0-5bf39fa1f57d"
      },
      "source": [
        "# reshape distance of stations array to 34*34 2D array\n",
        "distance = np.reshape(distance , (34,34))\n",
        "print(distance)"
      ],
      "execution_count": null,
      "outputs": [
        {
          "output_type": "stream",
          "text": [
            "[[ 0.         14.86606875 34.66987165 ... 23.32380758 33.52610923\n",
            "  45.54119015]\n",
            " [14.86606875  0.         49.24428901 ... 25.07987241 44.10215414\n",
            "  50.48762225]\n",
            " [34.66987165 49.24428901  0.         ... 41.01219331 23.02172887\n",
            "  44.40720662]\n",
            " ...\n",
            " [23.32380758 25.07987241 41.01219331 ...  0.         25.05992817\n",
            "  25.49509757]\n",
            " [33.52610923 44.10215414 23.02172887 ... 25.05992817  0.\n",
            "  21.40093456]\n",
            " [45.54119015 50.48762225 44.40720662 ... 25.49509757 21.40093456\n",
            "   0.        ]]\n"
          ],
          "name": "stdout"
        }
      ]
    },
    {
      "cell_type": "code",
      "metadata": {
        "colab": {
          "base_uri": "https://localhost:8080/"
        },
        "id": "L5cjJmUbsgIN",
        "outputId": "4456a663-f24f-42d7-b82d-5ea3ba1f98a6"
      },
      "source": [
        "#check if dist of same stations are zero or not\n",
        "a=0\n",
        "for i in range(34):\n",
        "  if distance[i,i] == 0:\n",
        "    a = a+1\n",
        "print(a)\n",
        "# test passed cause we have 34 as number of zeros which is distance of same stations"
      ],
      "execution_count": null,
      "outputs": [
        {
          "output_type": "stream",
          "text": [
            "34\n"
          ],
          "name": "stdout"
        }
      ]
    },
    {
      "cell_type": "code",
      "metadata": {
        "colab": {
          "base_uri": "https://localhost:8080/"
        },
        "id": "ravH4Rodt56g",
        "outputId": "f70300a6-13bb-4c39-80d1-84ccd3f3ddda"
      },
      "source": [
        "# add a 1*34 row to the end of the distance array\n",
        "a = np.vstack((distance,np.ones((1,34))))\n",
        "print(len(a) , len(a[0]))"
      ],
      "execution_count": null,
      "outputs": [
        {
          "output_type": "stream",
          "text": [
            "35 34\n"
          ],
          "name": "stdout"
        }
      ]
    },
    {
      "cell_type": "code",
      "metadata": {
        "colab": {
          "base_uri": "https://localhost:8080/"
        },
        "id": "j19TVF2QuUS1",
        "outputId": "98404cbc-f4e3-4530-c6f8-c4095df0f426"
      },
      "source": [
        "# add a column to the end of the distance array\n",
        "b=np.ones((35,1))\n",
        "print (len(b))\n",
        "a = np.append(a,b)\n",
        "# We have problem here"
      ],
      "execution_count": null,
      "outputs": [
        {
          "output_type": "stream",
          "text": [
            "35\n",
            "[ 0.         14.86606875 34.66987165 ...  1.          1.\n",
            "  1.        ]\n"
          ],
          "name": "stdout"
        }
      ]
    },
    {
      "cell_type": "code",
      "metadata": {
        "colab": {
          "base_uri": "https://localhost:8080/"
        },
        "id": "NhMFVgwsuzMI",
        "outputId": "198f39ec-4f24-4efe-e2d1-6515736fcec0"
      },
      "source": [
        "# We get a sample point to calculate the distance of it from each station. the sample point is [20,30]\n",
        "print(array[20,30])\n",
        "# The value of point [20,30] is 0 that means it is not station.\n",
        "sample = [20,30]\n",
        "\n",
        "sample_distance=[]\n",
        "for x,y in zip(randx,randy):\n",
        "  sample_distance.append(gamma(x,y,20,30))\n",
        "\n",
        "print (len(sample_distance))\n",
        "\n"
      ],
      "execution_count": null,
      "outputs": [
        {
          "output_type": "stream",
          "text": [
            "0.0\n",
            "34\n"
          ],
          "name": "stdout"
        }
      ]
    }
  ]
}